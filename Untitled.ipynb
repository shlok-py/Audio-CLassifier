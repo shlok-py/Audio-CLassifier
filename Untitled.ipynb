{
 "cells": [
  {
   "cell_type": "markdown",
   "id": "66ef088c-e18f-4d6d-b6aa-45a265d0c5fd",
   "metadata": {},
   "source": [
    "# 1. installing dependencies"
   ]
  },
  {
   "cell_type": "markdown",
   "id": "bf1181b5-7d04-456a-bdc9-af76c67a9f78",
   "metadata": {},
   "source": [
    "!pip install tensorflow-io tensorflow"
   ]
  },
  {
   "cell_type": "markdown",
   "id": "01f35e2a-25bb-4be3-8645-8c8892c46b5b",
   "metadata": {},
   "source": [
    "# 2 Loading dependencies"
   ]
  },
  {
   "cell_type": "code",
   "execution_count": 1,
   "id": "948cb76f-0077-4240-ac49-d1376896ed70",
   "metadata": {},
   "outputs": [],
   "source": [
    "import os\n",
    "from matplotlib import pyplot as plt\n",
    "import tensorflow as tf\n",
    "import tensorflow_io as tfio"
   ]
  },
  {
   "cell_type": "markdown",
   "id": "caa3af36-8964-48f9-bd95-d2fdc6869b12",
   "metadata": {},
   "source": [
    "# 3. Data loading function\n",
    "## 3.1 Define paths anf files"
   ]
  },
  {
   "cell_type": "code",
   "execution_count": 2,
   "id": "8c5a8287-0bdd-4f39-8de5-cbe2b94d1a65",
   "metadata": {},
   "outputs": [],
   "source": [
    "C_FILE = os.path.join('Parsed_Capuchinbird_Clips', 'XC3776-3.wav')\n",
    "NC_FILE = os.path.join('Parsed_Not_Capuchinbird_Clips', 'afternoon-birds-song-in-forest-1.wav')"
   ]
  },
  {
   "cell_type": "code",
   "execution_count": 3,
   "id": "7a7dcf01-8020-4085-b3e2-ee12ea379521",
   "metadata": {},
   "outputs": [],
   "source": [
    "def load_wav_16k_mono(filename):\n",
    "    #load encoded wav file\n",
    "    file_contents = tf.io.read_file(filename)\n",
    "    #Decode wav (tensors by channels)\n",
    "    wav,sample_rate = tf.audio.decode_wav(file_contents, desired_channels = 1)\n",
    "    #Removes trailing axis\n",
    "    wav = tf.squeeze(wav, axis = -1)\n",
    "    sample_rate = tf.cast(sample_rate, dtype = tf.int64)\n",
    "    #Goes from 44100Hz to 16000 Hz - amplitude of the audio signal\n",
    "    wav = tfio.audio.resample(wav, rate_in = sample_rate, rate_out = 16000)\n",
    "    return wav"
   ]
  },
  {
   "cell_type": "code",
   "execution_count": 4,
   "id": "a5923ebc-6ecb-41bd-bb7d-d70d89c774d1",
   "metadata": {},
   "outputs": [],
   "source": [
    "# #try the above code\n",
    "# f =  tf.io.read_file(C_FILE)\n",
    "# wav, sr = tf.audio.decode_wav(f, desired_channels = 1)\n",
    "# print(wav)\n",
    "# wav = tf.squeeze(wav, axis = -1)\n",
    "# print(wav)\n",
    "# sr = tf.cast(sr, dtype = tf.int64)\n",
    "# wav = tfio.audio.resample(wav, rate_in = sr, rate_out = 16000)\n",
    "# print(wav)"
   ]
  },
  {
   "cell_type": "markdown",
   "id": "16160850-96b4-4f87-8299-e3cc7fa3442c",
   "metadata": {},
   "source": [
    "# Plot the wave"
   ]
  },
  {
   "cell_type": "code",
   "execution_count": 5,
   "id": "fa4c4f55-2264-4fa4-aad7-363798fe1692",
   "metadata": {},
   "outputs": [],
   "source": [
    "wave = load_wav_16k_mono(C_FILE)\n",
    "nwave = load_wav_16k_mono(NC_FILE)"
   ]
  },
  {
   "cell_type": "code",
   "execution_count": 6,
   "id": "5fb3b2ab-c541-4f4c-9483-94c73dc90f20",
   "metadata": {},
   "outputs": [
    {
     "data": {
      "image/png": "[encoded data removed]",
      "text/plain": [
       "<Figure size 432x288 with 1 Axes>"
      ]
     },
     "metadata": {
      "needs_background": "light"
     },
     "output_type": "display_data"
    }
   ],
   "source": [
    "plt.plot(wave, color = \"black\")\n",
    "plt.plot(nwave, color = \"white\")\n",
    "plt.show()"
   ]
  },
  {
   "cell_type": "markdown",
   "id": "b5642264-6739-4efc-9649-edff394c690a",
   "metadata": {},
   "source": [
    "# 4 Create tensorflow dataset\n",
    "## 4.1 Define Paths to Positive and Negative Data"
   ]
  },
  {
   "cell_type": "code",
   "execution_count": 7,
   "id": "aa3f982d-7b75-4db9-8b26-209037696ce6",
   "metadata": {},
   "outputs": [],
   "source": [
    "pos = 'Parsed_Capuchinbird_Clips'\n",
    "neg = 'Parsed_Not_Capuchinbird_Clips'"
   ]
  },
  {
   "cell_type": "markdown",
   "id": "66237383-a1e5-4b01-8fee-a1bc9f5929ad",
   "metadata": {},
   "source": [
    "## 3.2 Create Tensorflow Datasets"
   ]
  },
  {
   "cell_type": "code",
   "execution_count": 8,
   "id": "178a1b1f-da6c-45bc-a184-17bc813142c6",
   "metadata": {},
   "outputs": [],
   "source": [
    "pos = tf.data.Dataset.list_files(pos + '\\*.wav')\n",
    "neg = tf.data.Dataset.list_files(neg+ '\\*.wav')"
   ]
  },
  {
   "cell_type": "code",
   "execution_count": 9,
   "id": "80aa2031-c194-4628-b5fc-b716cb9f7edf",
   "metadata": {},
   "outputs": [
    {
     "data": {
      "text/plain": [
       "b'Parsed_Capuchinbird_Clips\\\\XC27881-1.wav'"
      ]
     },
     "execution_count": 9,
     "metadata": {},
     "output_type": "execute_result"
    }
   ],
   "source": [
    "pos.as_numpy_iterator().next()"
   ]
  },
  {
   "cell_type": "markdown",
   "id": "d5d68b7d-7081-420a-a7ef-10fa6f13f512",
   "metadata": {},
   "source": [
    "## 4.3 Add labels and Combine Positive and Negative Samples"
   ]
  },
  {
   "cell_type": "code",
   "execution_count": 10,
   "id": "cfa13336-e9f9-4f6c-9f48-4386e31ea750",
   "metadata": {},
   "outputs": [],
   "source": [
    "positives = tf.data.Dataset.zip((pos, tf.data.Dataset.from_tensor_slices(tf.ones(len(pos)))))\n",
    "negatives = tf.data.Dataset.zip((neg, tf.data.Dataset.from_tensor_slices(tf.zeros(len(neg)))))\n",
    "data = positives.concatenate(negatives)"
   ]
  },
  {
   "cell_type": "code",
   "execution_count": 11,
   "id": "63f42915-3980-4b29-a9be-869b9f67101c",
   "metadata": {},
   "outputs": [
    {
     "data": {
      "text/plain": [
       "(b'Parsed_Capuchinbird_Clips\\\\XC520626-3.wav', 1.0)"
      ]
     },
     "execution_count": 11,
     "metadata": {},
     "output_type": "execute_result"
    }
   ],
   "source": [
    "data.shuffle(10000).as_numpy_iterator().next()"
   ]
  },
  {
   "cell_type": "markdown",
   "id": "57965851-8e69-48f2-ac55-883d8e3bb2ae",
   "metadata": {},
   "source": [
    "# Average length of a Capuchin Call"
   ]
  },
  {
   "cell_type": "code",
   "execution_count": 12,
   "id": "866c1aa5-d972-4e25-9418-a69bb94c3d43",
   "metadata": {},
   "outputs": [
    {
     "name": "stdout",
     "output_type": "stream",
     "text": [
      "WARNING:tensorflow:5 out of the last 5 calls to <function pfor.<locals>.f at 0x0000021DFB1D00D0> triggered tf.function retracing. Tracing is expensive and the excessive number of tracings could be due to (1) creating @tf.function repeatedly in a loop, (2) passing tensors with different shapes, (3) passing Python objects instead of tensors. For (1), please define your @tf.function outside of the loop. For (2), @tf.function has reduce_retracing=True option that can avoid unnecessary retracing. For (3), please refer to https://www.tensorflow.org/guide/function#controlling_retracing and https://www.tensorflow.org/api_docs/python/tf/function for  more details.\n",
      "WARNING:tensorflow:6 out of the last 6 calls to <function pfor.<locals>.f at 0x0000021DFB1D0040> triggered tf.function retracing. Tracing is expensive and the excessive number of tracings could be due to (1) creating @tf.function repeatedly in a loop, (2) passing tensors with different shapes, (3) passing Python objects instead of tensors. For (1), please define your @tf.function outside of the loop. For (2), @tf.function has reduce_retracing=True option that can avoid unnecessary retracing. For (3), please refer to https://www.tensorflow.org/guide/function#controlling_retracing and https://www.tensorflow.org/api_docs/python/tf/function for  more details.\n"
     ]
    }
   ],
   "source": [
    "lengths = []\n",
    "for file in os.listdir('Parsed_Capuchinbird_Clips'):\n",
    "    tensor_wave = load_wav_16k_mono(os.path.join('Parsed_Capuchinbird_Clips', file))\n",
    "    lengths.append(len(tensor_wave))"
   ]
  },
  {
   "cell_type": "markdown",
   "id": "fcde4f00-3ea5-4934-a03b-f04bdc3f546e",
   "metadata": {},
   "source": [
    "## print min max and avg"
   ]
  },
  {
   "cell_type": "code",
   "execution_count": 13,
   "id": "c18fe78d-0965-4630-8e17-68becffe9657",
   "metadata": {},
   "outputs": [
    {
     "data": {
      "text/plain": [
       "<tf.Tensor: shape=(), dtype=int32, numpy=32000>"
      ]
     },
     "execution_count": 13,
     "metadata": {},
     "output_type": "execute_result"
    }
   ],
   "source": [
    "tf.math.reduce_min(lengths)"
   ]
  },
  {
   "cell_type": "code",
   "execution_count": 14,
   "id": "05d40cf8-1e24-4922-a99c-a0f35479a4fa",
   "metadata": {},
   "outputs": [
    {
     "data": {
      "text/plain": [
       "<tf.Tensor: shape=(), dtype=int32, numpy=80000>"
      ]
     },
     "execution_count": 14,
     "metadata": {},
     "output_type": "execute_result"
    }
   ],
   "source": [
    "tf.math.reduce_max(lengths)"
   ]
  },
  {
   "cell_type": "code",
   "execution_count": 15,
   "id": "75ae6dbc-7a95-4335-82f7-ddcfa3f0e4b2",
   "metadata": {},
   "outputs": [
    {
     "data": {
      "text/plain": [
       "<tf.Tensor: shape=(), dtype=int32, numpy=54156>"
      ]
     },
     "execution_count": 15,
     "metadata": {},
     "output_type": "execute_result"
    }
   ],
   "source": [
    "tf.math.reduce_mean(lengths)"
   ]
  },
  {
   "cell_type": "markdown",
   "id": "16ce381e-11e1-4f0d-a6fb-80f9dea7982e",
   "metadata": {},
   "source": [
    "# Build Preprocessing Function"
   ]
  },
  {
   "cell_type": "code",
   "execution_count": 16,
   "id": "78b0d790-6ee2-4fa2-8f09-e3e6ef1b8c5e",
   "metadata": {},
   "outputs": [],
   "source": [
    "def preprocess(file_path, label):\n",
    "    wav = load_wav_16k_mono(file_path)\n",
    "    wav = wav[:48000]\n",
    "    zero_padding = tf.zeros([48000]-tf.shape(wav), dtype = tf.float32)\n",
    "    wav = tf.concat([zero_padding, wav],0)\n",
    "    spectrogram = tf.signal.stft(wav, frame_length = 320, frame_step = 32)\n",
    "    spectrogram = tf.abs(spectrogram)\n",
    "    spectrogram = tf.expand_dims(spectrogram, axis = 2)\n",
    "    return spectrogram, label"
   ]
  },
  {
   "cell_type": "code",
   "execution_count": 17,
   "id": "636fc062-32f3-43ab-b801-5a7ccb792db8",
   "metadata": {},
   "outputs": [],
   "source": [
    "filepath, label = positives.shuffle(10000).as_numpy_iterator().next()"
   ]
  },
  {
   "cell_type": "code",
   "execution_count": 18,
   "id": "631b5970-c5eb-42c0-a863-389655245218",
   "metadata": {},
   "outputs": [],
   "source": [
    "spectrogram, label = preprocess(filepath, label)"
   ]
  },
  {
   "cell_type": "code",
   "execution_count": 19,
   "id": "90f50775-394b-42ec-be56-cefb5cf73a16",
   "metadata": {},
   "outputs": [
    {
     "data": {
      "image/png": "[encoded data removed]",
      "text/plain": [
       "<Figure size 432x288 with 1 Axes>"
      ]
     },
     "metadata": {
      "needs_background": "light"
     },
     "output_type": "display_data"
    }
   ],
   "source": [
    "plt.imshow(tf.transpose(spectrogram)[0])\n",
    "plt.show()"
   ]
  },
  {
   "cell_type": "code",
   "execution_count": 20,
   "id": "60ef052f-0a54-44bf-b30e-e6fa3e7ad76c",
   "metadata": {},
   "outputs": [],
   "source": [
    "filepath, label = negatives.shuffle(10000).as_numpy_iterator().next()\n",
    "spectrogram, label = preprocess(filepath, label)"
   ]
  },
  {
   "cell_type": "code",
   "execution_count": 21,
   "id": "69f01861-f903-4d4b-a85d-6158d2dc0ba0",
   "metadata": {},
   "outputs": [
    {
     "data": {
      "image/png": "[encoded data removed]",
      "text/plain": [
       "<Figure size 432x288 with 1 Axes>"
      ]
     },
     "metadata": {
      "needs_background": "light"
     },
     "output_type": "display_data"
    }
   ],
   "source": [
    "plt.imshow(tf.transpose(spectrogram)[0])\n",
    "plt.show()"
   ]
  },
  {
   "cell_type": "markdown",
   "id": "5256e930-b128-41c2-b206-c06262c6d8f6",
   "metadata": {},
   "source": [
    "# Create a TensorFlow Data Pipeline"
   ]
  },
  {
   "cell_type": "code",
   "execution_count": 22,
   "id": "0a61ef76-774a-46ee-9e88-1eedfa099be7",
   "metadata": {},
   "outputs": [
    {
     "name": "stdout",
     "output_type": "stream",
     "text": [
      "WARNING:tensorflow:From C:\\Users\\USER\\anaconda3\\lib\\site-packages\\tensorflow\\python\\autograph\\pyct\\static_analysis\\liveness.py:83: Analyzer.lamba_check (from tensorflow.python.autograph.pyct.static_analysis.liveness) is deprecated and will be removed after 2023-09-23.\n",
      "Instructions for updating:\n",
      "Lambda fuctions will be no more assumed to be used in the statement where they are used, or at least in the same block. https://github.com/tensorflow/tensorflow/issues/56089\n",
      "WARNING:tensorflow:Using a while_loop for converting IO>AudioResample cause there is no registered converter for this op.\n"
     ]
    }
   ],
   "source": [
    "data = data.map(preprocess)\n",
    "data = data.cache()\n",
    "data = data.shuffle(buffer_size = 1000)\n",
    "data = data.batch(16)\n",
    "data = data.prefetch(8)"
   ]
  },
  {
   "cell_type": "markdown",
   "id": "0ba89895-d216-4b5a-adac-286d1401c835",
   "metadata": {},
   "source": [
    "## Split into train and test partitions"
   ]
  },
  {
   "cell_type": "code",
   "execution_count": 23,
   "id": "4766233d-a51b-4eef-83af-34fd0ecf30e3",
   "metadata": {},
   "outputs": [],
   "source": [
    "train = data.take(36)\n",
    "test = data.skip(36).take(15)"
   ]
  },
  {
   "cell_type": "code",
   "execution_count": 24,
   "id": "8a943e78-db4f-4464-9c98-d96b1d7c4f6b",
   "metadata": {},
   "outputs": [],
   "source": [
    "samples, labels = train.as_numpy_iterator().next()"
   ]
  },
  {
   "cell_type": "code",
   "execution_count": 25,
   "id": "1b846bb8-d644-4ed4-87f6-88c4852b6626",
   "metadata": {},
   "outputs": [
    {
     "data": {
      "text/plain": [
       "(16, 1491, 257, 1)"
      ]
     },
     "execution_count": 25,
     "metadata": {},
     "output_type": "execute_result"
    }
   ],
   "source": [
    "samples.shape"
   ]
  },
  {
   "cell_type": "markdown",
   "id": "cdb33517-f044-4c23-bf3d-3b00ab27bf66",
   "metadata": {},
   "source": [
    "## Build DL MODEL"
   ]
  },
  {
   "cell_type": "code",
   "execution_count": 26,
   "id": "8b48df82-3bed-4da9-bb16-19e6c3fa9a2d",
   "metadata": {},
   "outputs": [],
   "source": [
    "from tensorflow.keras.models import Sequential\n",
    "from tensorflow.keras.layers import Conv2D, Dense, Flatten"
   ]
  },
  {
   "cell_type": "markdown",
   "id": "db658c67-8b60-4848-a9d6-56b6718dbb92",
   "metadata": {},
   "source": [
    "### Build Sequential Model, COmple and View Summary"
   ]
  },
  {
   "cell_type": "code",
   "execution_count": 27,
   "id": "9ee23db9-2aa7-43bd-ba9f-e6cf038a470e",
   "metadata": {},
   "outputs": [],
   "source": [
    "model = Sequential()\n",
    "model.add(Conv2D(16, (3,3), activation = 'relu', input_shape = (1491,257,1), name = \"First_Conv\"))\n",
    "# mode.add()\n",
    "model.add(Conv2D(16, (3,3), activation = 'relu', name = \"Sec_Conv\"))\n",
    "model.add(Flatten())\n",
    "model.add(Dense(128, activation = 'relu'))\n",
    "model.add(Dense(1, activation = 'sigmoid'))"
   ]
  },
  {
   "cell_type": "code",
   "execution_count": 28,
   "id": "c2353017-eee3-4c2d-9bb1-204bf1af9472",
   "metadata": {},
   "outputs": [
    {
     "name": "stdout",
     "output_type": "stream",
     "text": [
      "Model: \"sequential\"\n",
      "_________________________________________________________________\n",
      " Layer (type)                Output Shape              Param #   \n",
      "=================================================================\n",
      " First_Conv (Conv2D)         (None, 1489, 255, 16)     160       \n",
      "                                                                 \n",
      " Sec_Conv (Conv2D)           (None, 1487, 253, 16)     2320      \n",
      "                                                                 \n",
      " flatten (Flatten)           (None, 6019376)           0         \n",
      "                                                                 \n",
      " dense (Dense)               (None, 128)               770480256 \n",
      "                                                                 \n",
      " dense_1 (Dense)             (None, 1)                 129       \n",
      "                                                                 \n",
      "=================================================================\n",
      "Total params: 770,482,865\n",
      "Trainable params: 770,482,865\n",
      "Non-trainable params: 0\n",
      "_________________________________________________________________\n"
     ]
    }
   ],
   "source": [
    "model.summary()"
   ]
  },
  {
   "cell_type": "code",
   "execution_count": 29,
   "id": "c6ef3c0b-002f-484d-834f-e9271c43fedc",
   "metadata": {},
   "outputs": [],
   "source": [
    "model.compile(\"Adam\", loss = 'BinaryCrossentropy', metrics = [tf.keras.metrics.Recall(), tf.keras.metrics.Precision()])"
   ]
  },
  {
   "cell_type": "code",
   "execution_count": null,
   "id": "6161272d-c543-4f19-98bc-51f99ced6a21",
   "metadata": {},
   "outputs": [
    {
     "name": "stdout",
     "output_type": "stream",
     "text": [
      "Epoch 1/4\n"
     ]
    }
   ],
   "source": [
    "hist=model.fit(train, epochs = 4, validation_data = test, verbose = 2)"
   ]
  },
  {
   "cell_type": "code",
   "execution_count": null,
   "id": "5bb428e3-53c3-4890-ba0b-bc2b7c63258f",
   "metadata": {},
   "outputs": [],
   "source": []
  }
 ],
 "metadata": {
  "kernelspec": {
   "display_name": "Python 3 (ipykernel)",
   "language": "python",
   "name": "python3"
  },
  "language_info": {
   "codemirror_mode": {
    "name": "ipython",
    "version": 3
   },
   "file_extension": ".py",
   "mimetype": "text/x-python",
   "name": "python",
   "nbconvert_exporter": "python",
   "pygments_lexer": "ipython3",
   "version": "3.9.7"
  }
 },
 "nbformat": 4,
 "nbformat_minor": 5
}
